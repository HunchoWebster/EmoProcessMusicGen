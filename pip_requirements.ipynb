{
 "cells": [
  {
   "cell_type": "code",
   "execution_count": 1,
   "id": "a9651a99-15cf-4600-aac4-4da6b536acf7",
   "metadata": {},
   "outputs": [
    {
     "name": "stdout",
     "output_type": "stream",
     "text": [
      "Collecting av==11.0.0 (from -r requirements.txt (line 2))\n",
      "  Downloading av-11.0.0-cp311-cp311-win_amd64.whl.metadata (4.7 kB)\n",
      "Collecting einops (from -r requirements.txt (line 3))\n",
      "  Downloading einops-0.8.1-py3-none-any.whl.metadata (13 kB)\n",
      "Collecting flashy>=0.0.1 (from -r requirements.txt (line 4))\n",
      "  Using cached flashy-0.0.2.tar.gz (72 kB)\n",
      "  Installing build dependencies: started\n",
      "  Installing build dependencies: finished with status 'error'\n"
     ]
    },
    {
     "name": "stderr",
     "output_type": "stream",
     "text": [
      "  error: subprocess-exited-with-error\n",
      "  \n",
      "  × pip subprocess to install build dependencies did not run successfully.\n",
      "  │ exit code: 1\n",
      "  ╰─> [8 lines of output]\n",
      "      Collecting setuptools\n",
      "        Using cached setuptools-75.8.0-py3-none-any.whl.metadata (6.7 kB)\n",
      "      Collecting wheel\n",
      "        Using cached wheel-0.45.1-py3-none-any.whl.metadata (2.3 kB)\n",
      "      Using cached setuptools-75.8.0-py3-none-any.whl (1.2 MB)\n",
      "      Using cached wheel-0.45.1-py3-none-any.whl (72 kB)\n",
      "      Installing collected packages: wheel, setuptools\n",
      "      ERROR: Cannot set --home and --prefix together\n",
      "      [end of output]\n",
      "  \n",
      "  note: This error originates from a subprocess, and is likely not a problem with pip.\n",
      "error: subprocess-exited-with-error\n",
      "\n",
      "× pip subprocess to install build dependencies did not run successfully.\n",
      "│ exit code: 1\n",
      "╰─> See above for output.\n",
      "\n",
      "note: This error originates from a subprocess, and is likely not a problem with pip.\n"
     ]
    }
   ],
   "source": [
    "!pip install -r requirements.txt"
   ]
  },
  {
   "cell_type": "code",
   "execution_count": null,
   "id": "9e181491-0cd6-4c1e-b8d2-99a60e214408",
   "metadata": {},
   "outputs": [],
   "source": []
  }
 ],
 "metadata": {
  "kernelspec": {
   "display_name": "Python 3 (ipykernel)",
   "language": "python",
   "name": "python3"
  },
  "language_info": {
   "codemirror_mode": {
    "name": "ipython",
    "version": 3
   },
   "file_extension": ".py",
   "mimetype": "text/x-python",
   "name": "python",
   "nbconvert_exporter": "python",
   "pygments_lexer": "ipython3",
   "version": "3.9.21"
  }
 },
 "nbformat": 4,
 "nbformat_minor": 5
}
