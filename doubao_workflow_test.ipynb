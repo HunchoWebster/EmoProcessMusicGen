{
 "cells": [
  {
   "cell_type": "code",
   "execution_count": 1,
   "id": "290c3743-1c4b-4616-8bcd-5682a24eb77c",
   "metadata": {},
   "outputs": [],
   "source": [
    "# "
   ]
  },
  {
   "cell_type": "code",
   "execution_count": 2,
   "id": "09edaaed-96d6-4fe5-b926-bb71e222cf9c",
   "metadata": {},
   "outputs": [
    {
     "name": "stdout",
     "output_type": "stream",
     "text": [
      "Collecting openai\n",
      "  Using cached openai-1.63.2-py3-none-any.whl.metadata (27 kB)\n",
      "Collecting anyio<5,>=3.5.0 (from openai)\n",
      "  Using cached anyio-4.8.0-py3-none-any.whl.metadata (4.6 kB)\n",
      "Collecting distro<2,>=1.7.0 (from openai)\n",
      "  Using cached distro-1.9.0-py3-none-any.whl.metadata (6.8 kB)\n",
      "Collecting httpx<1,>=0.23.0 (from openai)\n",
      "  Using cached httpx-0.28.1-py3-none-any.whl.metadata (7.1 kB)\n",
      "Collecting jiter<1,>=0.4.0 (from openai)\n",
      "  Using cached jiter-0.8.2-cp39-cp39-win_amd64.whl.metadata (5.3 kB)\n",
      "Collecting pydantic<3,>=1.9.0 (from openai)\n",
      "  Using cached pydantic-2.10.6-py3-none-any.whl.metadata (30 kB)\n",
      "Collecting sniffio (from openai)\n",
      "  Using cached sniffio-1.3.1-py3-none-any.whl.metadata (3.9 kB)\n",
      "Collecting tqdm>4 (from openai)\n",
      "  Using cached tqdm-4.67.1-py3-none-any.whl.metadata (57 kB)\n",
      "Collecting typing-extensions<5,>=4.11 (from openai)\n",
      "  Using cached typing_extensions-4.12.2-py3-none-any.whl.metadata (3.0 kB)\n",
      "Collecting exceptiongroup>=1.0.2 (from anyio<5,>=3.5.0->openai)\n",
      "  Using cached exceptiongroup-1.2.2-py3-none-any.whl.metadata (6.6 kB)\n",
      "Collecting idna>=2.8 (from anyio<5,>=3.5.0->openai)\n",
      "  Using cached idna-3.10-py3-none-any.whl.metadata (10 kB)\n",
      "Collecting certifi (from httpx<1,>=0.23.0->openai)\n",
      "  Using cached certifi-2025.1.31-py3-none-any.whl.metadata (2.5 kB)\n",
      "Collecting httpcore==1.* (from httpx<1,>=0.23.0->openai)\n",
      "  Using cached httpcore-1.0.7-py3-none-any.whl.metadata (21 kB)\n",
      "Collecting h11<0.15,>=0.13 (from httpcore==1.*->httpx<1,>=0.23.0->openai)\n",
      "  Using cached h11-0.14.0-py3-none-any.whl.metadata (8.2 kB)\n",
      "Collecting annotated-types>=0.6.0 (from pydantic<3,>=1.9.0->openai)\n",
      "  Using cached annotated_types-0.7.0-py3-none-any.whl.metadata (15 kB)\n",
      "Collecting pydantic-core==2.27.2 (from pydantic<3,>=1.9.0->openai)\n",
      "  Using cached pydantic_core-2.27.2-cp39-cp39-win_amd64.whl.metadata (6.7 kB)\n",
      "Collecting colorama (from tqdm>4->openai)\n",
      "  Using cached colorama-0.4.6-py2.py3-none-any.whl.metadata (17 kB)\n",
      "Using cached openai-1.63.2-py3-none-any.whl (472 kB)\n",
      "Using cached anyio-4.8.0-py3-none-any.whl (96 kB)\n",
      "Using cached distro-1.9.0-py3-none-any.whl (20 kB)\n",
      "Using cached httpx-0.28.1-py3-none-any.whl (73 kB)\n",
      "Using cached httpcore-1.0.7-py3-none-any.whl (78 kB)\n",
      "Using cached jiter-0.8.2-cp39-cp39-win_amd64.whl (207 kB)\n",
      "Using cached pydantic-2.10.6-py3-none-any.whl (431 kB)\n",
      "Using cached pydantic_core-2.27.2-cp39-cp39-win_amd64.whl (2.0 MB)\n",
      "Using cached sniffio-1.3.1-py3-none-any.whl (10 kB)\n",
      "Using cached tqdm-4.67.1-py3-none-any.whl (78 kB)\n",
      "Using cached typing_extensions-4.12.2-py3-none-any.whl (37 kB)\n",
      "Using cached annotated_types-0.7.0-py3-none-any.whl (13 kB)\n",
      "Using cached exceptiongroup-1.2.2-py3-none-any.whl (16 kB)\n",
      "Using cached idna-3.10-py3-none-any.whl (70 kB)\n",
      "Using cached certifi-2025.1.31-py3-none-any.whl (166 kB)\n",
      "Using cached colorama-0.4.6-py2.py3-none-any.whl (25 kB)\n",
      "Using cached h11-0.14.0-py3-none-any.whl (58 kB)\n",
      "Installing collected packages: typing-extensions, sniffio, jiter, idna, h11, exceptiongroup, distro, colorama, certifi, annotated-types, tqdm, pydantic-core, httpcore, anyio, pydantic, httpx, openai\n",
      "Successfully installed annotated-types-0.7.0 anyio-4.8.0 certifi-2025.1.31 colorama-0.4.6 distro-1.9.0 exceptiongroup-1.2.2 h11-0.14.0 httpcore-1.0.7 httpx-0.28.1 idna-3.10 jiter-0.8.2 openai-1.63.2 pydantic-2.10.6 pydantic-core-2.27.2 sniffio-1.3.1 tqdm-4.67.1 typing-extensions-4.12.2\n"
     ]
    },
    {
     "name": "stderr",
     "output_type": "stream",
     "text": [
      "WARNING: Target directory D:\\pip_target\\annotated_types already exists. Specify --upgrade to force replacement.\n",
      "WARNING: Target directory D:\\pip_target\\annotated_types-0.7.0.dist-info already exists. Specify --upgrade to force replacement.\n",
      "WARNING: Target directory D:\\pip_target\\anyio already exists. Specify --upgrade to force replacement.\n",
      "WARNING: Target directory D:\\pip_target\\anyio-4.8.0.dist-info already exists. Specify --upgrade to force replacement.\n",
      "WARNING: Target directory D:\\pip_target\\certifi already exists. Specify --upgrade to force replacement.\n",
      "WARNING: Target directory D:\\pip_target\\certifi-2025.1.31.dist-info already exists. Specify --upgrade to force replacement.\n",
      "WARNING: Target directory D:\\pip_target\\colorama already exists. Specify --upgrade to force replacement.\n",
      "WARNING: Target directory D:\\pip_target\\colorama-0.4.6.dist-info already exists. Specify --upgrade to force replacement.\n",
      "WARNING: Target directory D:\\pip_target\\distro already exists. Specify --upgrade to force replacement.\n",
      "WARNING: Target directory D:\\pip_target\\distro-1.9.0.dist-info already exists. Specify --upgrade to force replacement.\n",
      "WARNING: Target directory D:\\pip_target\\exceptiongroup already exists. Specify --upgrade to force replacement.\n",
      "WARNING: Target directory D:\\pip_target\\exceptiongroup-1.2.2.dist-info already exists. Specify --upgrade to force replacement.\n",
      "WARNING: Target directory D:\\pip_target\\h11 already exists. Specify --upgrade to force replacement.\n",
      "WARNING: Target directory D:\\pip_target\\h11-0.14.0.dist-info already exists. Specify --upgrade to force replacement.\n",
      "WARNING: Target directory D:\\pip_target\\httpcore already exists. Specify --upgrade to force replacement.\n",
      "WARNING: Target directory D:\\pip_target\\httpcore-1.0.7.dist-info already exists. Specify --upgrade to force replacement.\n",
      "WARNING: Target directory D:\\pip_target\\httpx already exists. Specify --upgrade to force replacement.\n",
      "WARNING: Target directory D:\\pip_target\\httpx-0.28.1.dist-info already exists. Specify --upgrade to force replacement.\n",
      "WARNING: Target directory D:\\pip_target\\idna already exists. Specify --upgrade to force replacement.\n",
      "WARNING: Target directory D:\\pip_target\\idna-3.10.dist-info already exists. Specify --upgrade to force replacement.\n",
      "WARNING: Target directory D:\\pip_target\\jiter already exists. Specify --upgrade to force replacement.\n",
      "WARNING: Target directory D:\\pip_target\\jiter-0.8.2.dist-info already exists. Specify --upgrade to force replacement.\n",
      "WARNING: Target directory D:\\pip_target\\openai already exists. Specify --upgrade to force replacement.\n",
      "WARNING: Target directory D:\\pip_target\\openai-1.63.2.dist-info already exists. Specify --upgrade to force replacement.\n",
      "WARNING: Target directory D:\\pip_target\\pydantic already exists. Specify --upgrade to force replacement.\n",
      "WARNING: Target directory D:\\pip_target\\pydantic-2.10.6.dist-info already exists. Specify --upgrade to force replacement.\n",
      "WARNING: Target directory D:\\pip_target\\pydantic_core already exists. Specify --upgrade to force replacement.\n",
      "WARNING: Target directory D:\\pip_target\\pydantic_core-2.27.2.dist-info already exists. Specify --upgrade to force replacement.\n",
      "WARNING: Target directory D:\\pip_target\\sniffio already exists. Specify --upgrade to force replacement.\n",
      "WARNING: Target directory D:\\pip_target\\sniffio-1.3.1.dist-info already exists. Specify --upgrade to force replacement.\n",
      "WARNING: Target directory D:\\pip_target\\tqdm already exists. Specify --upgrade to force replacement.\n",
      "WARNING: Target directory D:\\pip_target\\tqdm-4.67.1.dist-info already exists. Specify --upgrade to force replacement.\n",
      "WARNING: Target directory D:\\pip_target\\typing_extensions-4.12.2.dist-info already exists. Specify --upgrade to force replacement.\n",
      "WARNING: Target directory D:\\pip_target\\typing_extensions.py already exists. Specify --upgrade to force replacement.\n",
      "WARNING: Target directory D:\\pip_target\\__pycache__ already exists. Specify --upgrade to force replacement.\n",
      "WARNING: Target directory D:\\pip_target\\bin already exists. Specify --upgrade to force replacement.\n"
     ]
    }
   ],
   "source": [
    "import sys\n",
    "!{sys.executable} -m pip install openai"
   ]
  },
  {
   "cell_type": "code",
   "execution_count": 3,
   "id": "a94ae7c9-0daf-4f87-9243-b62e8a210987",
   "metadata": {},
   "outputs": [
    {
     "name": "stdout",
     "output_type": "stream",
     "text": [
      "['D:\\\\pip_target', 'D:\\\\anaconda3\\\\envs\\\\AudioCraft\\\\python39.zip', 'D:\\\\anaconda3\\\\envs\\\\AudioCraft\\\\DLLs', 'D:\\\\anaconda3\\\\envs\\\\AudioCraft\\\\lib', 'D:\\\\anaconda3\\\\envs\\\\AudioCraft', '', 'D:\\\\anaconda3\\\\envs\\\\AudioCraft\\\\lib\\\\site-packages', 'D:\\\\anaconda3\\\\envs\\\\AudioCraft\\\\lib\\\\site-packages\\\\win32', 'D:\\\\anaconda3\\\\envs\\\\AudioCraft\\\\lib\\\\site-packages\\\\win32\\\\lib', 'D:\\\\anaconda3\\\\envs\\\\AudioCraft\\\\lib\\\\site-packages\\\\Pythonwin']\n"
     ]
    }
   ],
   "source": [
    "# import sys\n",
    "\n",
    "# # 将 \"D:\\pip_target\" 添加到 sys.path 中\n",
    "# sys.path.insert(0, r\"D:\\pip_target\")\n",
    "\n",
    "# # 打印 sys.path 验证是否已添加\n",
    "# print(sys.path)"
   ]
  },
  {
   "cell_type": "code",
   "execution_count": 4,
   "id": "b853e014-e9ca-404e-827f-7858186b3503",
   "metadata": {
    "scrolled": true
   },
   "outputs": [
    {
     "name": "stdout",
     "output_type": "stream",
     "text": [
      "D:\\anaconda3\\envs\\AudioCraft\\python.exe \n",
      " ['D:\\\\pip_target', 'D:\\\\anaconda3\\\\envs\\\\AudioCraft\\\\python39.zip', 'D:\\\\anaconda3\\\\envs\\\\AudioCraft\\\\DLLs', 'D:\\\\anaconda3\\\\envs\\\\AudioCraft\\\\lib', 'D:\\\\anaconda3\\\\envs\\\\AudioCraft', '', 'D:\\\\anaconda3\\\\envs\\\\AudioCraft\\\\lib\\\\site-packages', 'D:\\\\anaconda3\\\\envs\\\\AudioCraft\\\\lib\\\\site-packages\\\\win32', 'D:\\\\anaconda3\\\\envs\\\\AudioCraft\\\\lib\\\\site-packages\\\\win32\\\\lib', 'D:\\\\anaconda3\\\\envs\\\\AudioCraft\\\\lib\\\\site-packages\\\\Pythonwin'] \n",
      " D:\\anaconda3\\envs\\AudioCraft\n"
     ]
    }
   ],
   "source": [
    "# import sys\n",
    "# print(sys.executable,'\\n',\n",
    "# sys.path,'\\n',\n",
    "# sys.prefix)"
   ]
  },
  {
   "cell_type": "code",
   "execution_count": 5,
   "id": "515d2922-089a-422b-b403-2c4505dcc2d5",
   "metadata": {
    "scrolled": true
   },
   "outputs": [],
   "source": [
    "ARK_API_KEY=\"9e5d6644-81ee-4360-baf1-db1816b2c344\""
   ]
  },
  {
   "cell_type": "code",
   "execution_count": 6,
   "id": "82129cf0-5972-48b9-812c-e7d58d8c53f3",
   "metadata": {},
   "outputs": [
    {
     "name": "stdout",
     "output_type": "stream",
     "text": [
      "----- standard request -----\n",
      "十字花科植物种类繁多，以下是一些常见的十字花科植物：\n",
      "1. **白菜类**：如大白菜、小白菜、菜薹等。\n",
      "2. **甘蓝类**：包括结球甘蓝（圆白菜）、花椰菜（菜花）、青花菜、球茎甘蓝等。\n",
      "3. **芥菜类**：例如叶用芥菜（雪里蕻等）、茎用芥菜（榨菜）、根用芥菜等。\n",
      "4. **萝卜**：有白萝卜、青萝卜等不同品种。\n",
      "5. **油菜**：包括白菜型油菜、甘蓝型油菜等，是重要的油料作物。\n",
      "6. **荠菜**：常见的野菜。\n",
      "7. **紫罗兰**：常作为观赏植物。 \n",
      "----- streaming request -----\n",
      "十字花科植物种类繁多，以下是一些常见的十字花科植物：\n",
      "1. **蔬菜类**\n",
      "    - **白菜**：包括大白菜、小白菜等多个品种，是常见的蔬菜，营养丰富。\n",
      "    - **萝卜**：品种多样，如白萝卜、青萝卜、胡萝卜等，可生食、熟食或腌制。\n",
      "    - **甘蓝**：有结球甘蓝（如圆白菜）、羽衣甘蓝等，结球甘蓝口感脆嫩，羽衣甘蓝常作观赏植物，也可食用。\n",
      "    - **花椰菜**：也就是菜花，其花球可供食用，质地细嫩，味道鲜美。\n",
      "    - **西兰花**：同样是受欢迎的蔬菜，富含维生素和膳食纤维。\n",
      "2. **油料作物**\n",
      "    - **油菜**：是重要的油料作物，种子可榨油，即菜籽油。\n",
      "3. **观赏植物**\n",
      "    - **紫罗兰**：花朵色彩丰富，具有较高的观赏价值，常种植于花坛、花境。\n",
      "    - **诸葛菜**：又称二月兰，常见于公园、绿地，早春开花，一片紫色花海非常美观。\n",
      "4. **药用植物**\n",
      "    - **菘蓝**：其根是中药板蓝根，叶是大青叶，有清热解毒等功效。 \n"
     ]
    }
   ],
   "source": [
    "import os\n",
    "from openai import OpenAI\n",
    "\n",
    "client = OpenAI(\n",
    "    api_key = ARK_API_KEY,\n",
    "    base_url = \"https://ark.cn-beijing.volces.com/api/v3\",\n",
    ")\n",
    "\n",
    "# Non-streaming:\n",
    "print(\"----- standard request -----\")\n",
    "completion = client.chat.completions.create(\n",
    "    model = \"ep-20250220214537-p7622\",  # your model endpoint ID\n",
    "    messages = [\n",
    "        {\"role\": \"system\", \"content\": \"你是人工智能助手\"},\n",
    "        {\"role\": \"user\", \"content\": \"常见的十字花科植物有哪些？\"},\n",
    "    ],\n",
    ")\n",
    "print(completion.choices[0].message.content)\n",
    "\n",
    "# Streaming:\n",
    "print(\"----- streaming request -----\")\n",
    "stream = client.chat.completions.create(\n",
    "    model = \"ep-20250220214537-p7622\",  # your model endpoint ID\n",
    "    messages = [\n",
    "        {\"role\": \"system\", \"content\": \"你是人工智能助手\"},\n",
    "        {\"role\": \"user\", \"content\": \"常见的十字花科植物有哪些？\"},\n",
    "    ],\n",
    "    stream=True\n",
    ")\n",
    "\n",
    "for chunk in stream:\n",
    "    if not chunk.choices:\n",
    "        continue\n",
    "    print(chunk.choices[0].delta.content, end=\"\")\n",
    "print()"
   ]
  },
  {
   "cell_type": "code",
   "execution_count": 1,
   "id": "136ec8bc-8ef5-46c3-96fc-48cfbaa1f750",
   "metadata": {},
   "outputs": [
    {
     "ename": "ModuleNotFoundError",
     "evalue": "No module named 'openai'",
     "output_type": "error",
     "traceback": [
      "\u001b[1;31m---------------------------------------------------------------------------\u001b[0m",
      "\u001b[1;31mModuleNotFoundError\u001b[0m                       Traceback (most recent call last)",
      "Cell \u001b[1;32mIn[1], line 2\u001b[0m\n\u001b[0;32m      1\u001b[0m \u001b[38;5;28;01mimport\u001b[39;00m \u001b[38;5;21;01mos\u001b[39;00m\n\u001b[1;32m----> 2\u001b[0m \u001b[38;5;28;01mfrom\u001b[39;00m \u001b[38;5;21;01mopenai\u001b[39;00m \u001b[38;5;28;01mimport\u001b[39;00m OpenAI\n\u001b[0;32m      4\u001b[0m \u001b[38;5;66;03m# 请确保 ARK_API_KEY 已经在环境变量或其他地方正确设置\u001b[39;00m\n\u001b[0;32m      5\u001b[0m \u001b[38;5;66;03m# ARK_API_KEY = os.getenv(\"ARK_API_KEY\")26\u001b[39;00m\n\u001b[0;32m      6\u001b[0m \u001b[38;5;28;01mif\u001b[39;00m ARK_API_KEY \u001b[38;5;129;01mis\u001b[39;00m \u001b[38;5;28;01mNone\u001b[39;00m:\n",
      "\u001b[1;31mModuleNotFoundError\u001b[0m: No module named 'openai'"
     ]
    }
   ],
   "source": [
    "import os\n",
    "from openai import OpenAI\n",
    "\n",
    "# 请确保 ARK_API_KEY 已经在环境变量或其他地方正确设置\n",
    "# ARK_API_KEY = os.getenv(\"ARK_API_KEY\")26\n",
    "if ARK_API_KEY is None:\n",
    "    print(\"请设置 ARK_API_KEY 环境变量以继续。\")\n",
    "    exit(1)\n",
    "\n",
    "# 初始化豆包API客户端\n",
    "client = OpenAI(\n",
    "    api_key=ARK_API_KEY,\n",
    "    base_url=\"https://ark.cn-beijing.volces.com/api/v3\",\n",
    ")\n",
    "\n",
    "def create_music_prompt(user_input,api_key):\n",
    "    \"\"\"\n",
    "    接收用户输入，调用 API 生成仅包含音乐提示词的简短英文 prompt。\n",
    "    \"\"\"\n",
    "    try:\n",
    "        completion = client.chat.completions.create(\n",
    "            model=\"ep-20250220214537-p7622\",  # 替换为实际使用的模型ID\n",
    "            messages=[\n",
    "                {\n",
    "                    \"role\": \"system\",\n",
    "                    \"content\": (\n",
    "                        \"You are a music prompt generator for a music generation model called 'musicgen'. \"\n",
    "                        \"Your task is to analyze the user's input and output only a concise, detailed, and creative music \"\n",
    "                        \"prompt in English. Do not include any extra information, prefixes, or explanations. \"\n",
    "                        \"For example, if the user's input indicates a need for relaxation, your output could be: \"\n",
    "                        \"'a gentle ambient piece with soft pads that gradually builds a sense of tranquility'.\"\n",
    "                    )\n",
    "                },\n",
    "                {\"role\": \"user\", \"content\": user_input}\n",
    "            ]\n",
    "        )\n",
    "        final_prompt = completion.choices[0].message.content.strip()\n",
    "        return final_prompt\n",
    "    except Exception as e:\n",
    "        print(f\"Music prompt generation error: {e}\")\n",
    "        # 出现异常时返回一个默认的 prompt\n",
    "        return \"a gentle ambient piece with soft pads that gradually builds a sense of tranquility\"\n",
    "\n",
    "def main():\n",
    "    # 接受用户输入\n",
    "    user_input = input(\"请输入情绪描述（例如：今天工作压力很大，需要放松）：\\n\")\n",
    "    \n",
    "    # 生成适用于 musicgen 的英文提示词\n",
    "    prompt = create_music_prompt(user_input)\n",
    "    \n",
    "    # 格式化输出提示词（仅输出生成的 prompt）\n",
    "    print(\"\\n\" + prompt)\n",
    "\n",
    "# if __name__ == '__main__':\n",
    "#     main()"
   ]
  },
  {
   "cell_type": "code",
   "execution_count": 8,
   "id": "56398fbc-582c-4c75-af7f-2e8963639e49",
   "metadata": {},
   "outputs": [
    {
     "ename": "ImportError",
     "evalue": "Error importing numpy: you should not try to import numpy from\n        its source directory; please exit the numpy source tree, and relaunch\n        your python interpreter from there.",
     "output_type": "error",
     "traceback": [
      "\u001b[1;31m---------------------------------------------------------------------------\u001b[0m",
      "\u001b[1;31mModuleNotFoundError\u001b[0m                       Traceback (most recent call last)",
      "File \u001b[1;32mD:\\pip_target\\numpy\\_core\\__init__.py:23\u001b[0m\n\u001b[0;32m     22\u001b[0m \u001b[38;5;28;01mtry\u001b[39;00m:\n\u001b[1;32m---> 23\u001b[0m     \u001b[38;5;28;01mfrom\u001b[39;00m \u001b[38;5;21;01m.\u001b[39;00m \u001b[38;5;28;01mimport\u001b[39;00m multiarray\n\u001b[0;32m     24\u001b[0m \u001b[38;5;28;01mexcept\u001b[39;00m \u001b[38;5;167;01mImportError\u001b[39;00m \u001b[38;5;28;01mas\u001b[39;00m exc:\n",
      "File \u001b[1;32mD:\\pip_target\\numpy\\_core\\multiarray.py:10\u001b[0m\n\u001b[0;32m      9\u001b[0m \u001b[38;5;28;01mimport\u001b[39;00m \u001b[38;5;21;01mfunctools\u001b[39;00m\n\u001b[1;32m---> 10\u001b[0m \u001b[38;5;28;01mfrom\u001b[39;00m \u001b[38;5;21;01m.\u001b[39;00m \u001b[38;5;28;01mimport\u001b[39;00m overrides\n\u001b[0;32m     11\u001b[0m \u001b[38;5;28;01mfrom\u001b[39;00m \u001b[38;5;21;01m.\u001b[39;00m \u001b[38;5;28;01mimport\u001b[39;00m _multiarray_umath\n",
      "File \u001b[1;32mD:\\pip_target\\numpy\\_core\\overrides.py:7\u001b[0m\n\u001b[0;32m      6\u001b[0m \u001b[38;5;28;01mfrom\u001b[39;00m \u001b[38;5;21;01m.\u001b[39;00m\u001b[38;5;21;01m.\u001b[39;00m\u001b[38;5;21;01m_utils\u001b[39;00m\u001b[38;5;21;01m.\u001b[39;00m\u001b[38;5;21;01m_inspect\u001b[39;00m \u001b[38;5;28;01mimport\u001b[39;00m getargspec\n\u001b[1;32m----> 7\u001b[0m \u001b[38;5;28;01mfrom\u001b[39;00m \u001b[38;5;21;01mnumpy\u001b[39;00m\u001b[38;5;21;01m.\u001b[39;00m\u001b[38;5;21;01m_core\u001b[39;00m\u001b[38;5;21;01m.\u001b[39;00m\u001b[38;5;21;01m_multiarray_umath\u001b[39;00m \u001b[38;5;28;01mimport\u001b[39;00m (\n\u001b[0;32m      8\u001b[0m     add_docstring,  _get_implementing_args, _ArrayFunctionDispatcher)\n\u001b[0;32m     11\u001b[0m ARRAY_FUNCTIONS \u001b[38;5;241m=\u001b[39m \u001b[38;5;28mset\u001b[39m()\n",
      "\u001b[1;31mModuleNotFoundError\u001b[0m: No module named 'numpy._core._multiarray_umath'",
      "\nDuring handling of the above exception, another exception occurred:\n",
      "\u001b[1;31mImportError\u001b[0m                               Traceback (most recent call last)",
      "File \u001b[1;32mD:\\pip_target\\numpy\\__init__.py:127\u001b[0m\n\u001b[0;32m    126\u001b[0m \u001b[38;5;28;01mtry\u001b[39;00m:\n\u001b[1;32m--> 127\u001b[0m     \u001b[38;5;28;01mfrom\u001b[39;00m \u001b[38;5;21;01mnumpy\u001b[39;00m\u001b[38;5;21;01m.\u001b[39;00m\u001b[38;5;21;01m__config__\u001b[39;00m \u001b[38;5;28;01mimport\u001b[39;00m show_config\n\u001b[0;32m    128\u001b[0m \u001b[38;5;28;01mexcept\u001b[39;00m \u001b[38;5;167;01mImportError\u001b[39;00m \u001b[38;5;28;01mas\u001b[39;00m e:\n",
      "File \u001b[1;32mD:\\pip_target\\numpy\\__config__.py:4\u001b[0m\n\u001b[0;32m      3\u001b[0m \u001b[38;5;28;01mfrom\u001b[39;00m \u001b[38;5;21;01menum\u001b[39;00m \u001b[38;5;28;01mimport\u001b[39;00m Enum\n\u001b[1;32m----> 4\u001b[0m \u001b[38;5;28;01mfrom\u001b[39;00m \u001b[38;5;21;01mnumpy\u001b[39;00m\u001b[38;5;21;01m.\u001b[39;00m\u001b[38;5;21;01m_core\u001b[39;00m\u001b[38;5;21;01m.\u001b[39;00m\u001b[38;5;21;01m_multiarray_umath\u001b[39;00m \u001b[38;5;28;01mimport\u001b[39;00m (\n\u001b[0;32m      5\u001b[0m     __cpu_features__,\n\u001b[0;32m      6\u001b[0m     __cpu_baseline__,\n\u001b[0;32m      7\u001b[0m     __cpu_dispatch__,\n\u001b[0;32m      8\u001b[0m )\n\u001b[0;32m     10\u001b[0m __all__ \u001b[38;5;241m=\u001b[39m [\u001b[38;5;124m\"\u001b[39m\u001b[38;5;124mshow_config\u001b[39m\u001b[38;5;124m\"\u001b[39m]\n",
      "File \u001b[1;32mD:\\pip_target\\numpy\\_core\\__init__.py:49\u001b[0m\n\u001b[0;32m     26\u001b[0m     msg \u001b[38;5;241m=\u001b[39m \u001b[38;5;124m\"\"\"\u001b[39m\n\u001b[0;32m     27\u001b[0m \n\u001b[0;32m     28\u001b[0m \u001b[38;5;124mIMPORTANT: PLEASE READ THIS FOR ADVICE ON HOW TO SOLVE THIS ISSUE!\u001b[39m\n\u001b[1;32m   (...)\u001b[0m\n\u001b[0;32m     47\u001b[0m \u001b[38;5;124m\"\"\"\u001b[39m \u001b[38;5;241m%\u001b[39m (sys\u001b[38;5;241m.\u001b[39mversion_info[\u001b[38;5;241m0\u001b[39m], sys\u001b[38;5;241m.\u001b[39mversion_info[\u001b[38;5;241m1\u001b[39m], sys\u001b[38;5;241m.\u001b[39mexecutable,\n\u001b[0;32m     48\u001b[0m         __version__, exc)\n\u001b[1;32m---> 49\u001b[0m     \u001b[38;5;28;01mraise\u001b[39;00m \u001b[38;5;167;01mImportError\u001b[39;00m(msg)\n\u001b[0;32m     50\u001b[0m \u001b[38;5;28;01mfinally\u001b[39;00m:\n",
      "\u001b[1;31mImportError\u001b[0m: \n\nIMPORTANT: PLEASE READ THIS FOR ADVICE ON HOW TO SOLVE THIS ISSUE!\n\nImporting the numpy C-extensions failed. This error can happen for\nmany reasons, often due to issues with your setup or how NumPy was\ninstalled.\n\nWe have compiled some common reasons and troubleshooting tips at:\n\n    https://numpy.org/devdocs/user/troubleshooting-importerror.html\n\nPlease note and check the following:\n\n  * The Python version is: Python3.9 from \"D:\\anaconda3\\envs\\AudioCraft\\python.exe\"\n  * The NumPy version is: \"2.2.3\"\n\nand make sure that they are the versions you expect.\nPlease carefully study the documentation linked above for further help.\n\nOriginal error was: No module named 'numpy._core._multiarray_umath'\n",
      "\nThe above exception was the direct cause of the following exception:\n",
      "\u001b[1;31mImportError\u001b[0m                               Traceback (most recent call last)",
      "Cell \u001b[1;32mIn[8], line 1\u001b[0m\n\u001b[1;32m----> 1\u001b[0m \u001b[38;5;28;01mfrom\u001b[39;00m \u001b[38;5;21;01maudiocraft\u001b[39;00m\u001b[38;5;21;01m.\u001b[39;00m\u001b[38;5;21;01mmodels\u001b[39;00m \u001b[38;5;28;01mimport\u001b[39;00m MusicGen\n\u001b[0;32m      2\u001b[0m \u001b[38;5;28;01mfrom\u001b[39;00m \u001b[38;5;21;01maudiocraft\u001b[39;00m\u001b[38;5;21;01m.\u001b[39;00m\u001b[38;5;21;01mmodels\u001b[39;00m \u001b[38;5;28;01mimport\u001b[39;00m MultiBandDiffusion\n\u001b[0;32m      4\u001b[0m USE_DIFFUSION_DECODER \u001b[38;5;241m=\u001b[39m \u001b[38;5;28;01mFalse\u001b[39;00m\n",
      "File \u001b[1;32mD:\\Jupyter\\audiocraft\\audiocraft\\__init__.py:24\u001b[0m\n\u001b[0;32m      6\u001b[0m \u001b[38;5;124;03m\"\"\"\u001b[39;00m\n\u001b[0;32m      7\u001b[0m \u001b[38;5;124;03mAudioCraft is a general framework for training audio generative models.\u001b[39;00m\n\u001b[0;32m      8\u001b[0m \u001b[38;5;124;03mAt the moment we provide the training code for:\u001b[39;00m\n\u001b[1;32m   (...)\u001b[0m\n\u001b[0;32m     20\u001b[0m \u001b[38;5;124;03m    improves the perceived quality and reduces the artifacts coming from adversarial decoders.\u001b[39;00m\n\u001b[0;32m     21\u001b[0m \u001b[38;5;124;03m\"\"\"\u001b[39;00m\n\u001b[0;32m     23\u001b[0m \u001b[38;5;66;03m# flake8: noqa\u001b[39;00m\n\u001b[1;32m---> 24\u001b[0m \u001b[38;5;28;01mfrom\u001b[39;00m \u001b[38;5;21;01m.\u001b[39;00m \u001b[38;5;28;01mimport\u001b[39;00m data, modules, models\n\u001b[0;32m     26\u001b[0m __version__ \u001b[38;5;241m=\u001b[39m \u001b[38;5;124m'\u001b[39m\u001b[38;5;124m1.4.0a1\u001b[39m\u001b[38;5;124m'\u001b[39m\n",
      "File \u001b[1;32mD:\\Jupyter\\audiocraft\\audiocraft\\data\\__init__.py:10\u001b[0m\n\u001b[0;32m      6\u001b[0m \u001b[38;5;124;03m\"\"\"Audio loading and writing support. Datasets for raw audio\u001b[39;00m\n\u001b[0;32m      7\u001b[0m \u001b[38;5;124;03mor also including some metadata.\"\"\"\u001b[39;00m\n\u001b[0;32m      9\u001b[0m \u001b[38;5;66;03m# flake8: noqa\u001b[39;00m\n\u001b[1;32m---> 10\u001b[0m \u001b[38;5;28;01mfrom\u001b[39;00m \u001b[38;5;21;01m.\u001b[39;00m \u001b[38;5;28;01mimport\u001b[39;00m audio, audio_dataset, info_audio_dataset, music_dataset, sound_dataset\n",
      "File \u001b[1;32mD:\\Jupyter\\audiocraft\\audiocraft\\data\\audio.py:17\u001b[0m\n\u001b[0;32m     14\u001b[0m \u001b[38;5;28;01mimport\u001b[39;00m \u001b[38;5;21;01mlogging\u001b[39;00m\n\u001b[0;32m     15\u001b[0m \u001b[38;5;28;01mimport\u001b[39;00m \u001b[38;5;21;01mtyping\u001b[39;00m \u001b[38;5;28;01mas\u001b[39;00m \u001b[38;5;21;01mtp\u001b[39;00m\n\u001b[1;32m---> 17\u001b[0m \u001b[38;5;28;01mimport\u001b[39;00m \u001b[38;5;21;01mnumpy\u001b[39;00m \u001b[38;5;28;01mas\u001b[39;00m \u001b[38;5;21;01mnp\u001b[39;00m\n\u001b[0;32m     18\u001b[0m \u001b[38;5;28;01mimport\u001b[39;00m \u001b[38;5;21;01msoundfile\u001b[39;00m\n\u001b[0;32m     19\u001b[0m \u001b[38;5;28;01mimport\u001b[39;00m \u001b[38;5;21;01mtorch\u001b[39;00m\n",
      "File \u001b[1;32mD:\\pip_target\\numpy\\__init__.py:132\u001b[0m\n\u001b[0;32m    128\u001b[0m \u001b[38;5;28;01mexcept\u001b[39;00m \u001b[38;5;167;01mImportError\u001b[39;00m \u001b[38;5;28;01mas\u001b[39;00m e:\n\u001b[0;32m    129\u001b[0m     msg \u001b[38;5;241m=\u001b[39m \u001b[38;5;124m\"\"\"\u001b[39m\u001b[38;5;124mError importing numpy: you should not try to import numpy from\u001b[39m\n\u001b[0;32m    130\u001b[0m \u001b[38;5;124m    its source directory; please exit the numpy source tree, and relaunch\u001b[39m\n\u001b[0;32m    131\u001b[0m \u001b[38;5;124m    your python interpreter from there.\u001b[39m\u001b[38;5;124m\"\"\"\u001b[39m\n\u001b[1;32m--> 132\u001b[0m     \u001b[38;5;28;01mraise\u001b[39;00m \u001b[38;5;167;01mImportError\u001b[39;00m(msg) \u001b[38;5;28;01mfrom\u001b[39;00m \u001b[38;5;21;01me\u001b[39;00m\n\u001b[0;32m    134\u001b[0m \u001b[38;5;28;01mfrom\u001b[39;00m \u001b[38;5;21;01m.\u001b[39;00m \u001b[38;5;28;01mimport\u001b[39;00m _core\n\u001b[0;32m    135\u001b[0m \u001b[38;5;28;01mfrom\u001b[39;00m \u001b[38;5;21;01m.\u001b[39;00m\u001b[38;5;21;01m_core\u001b[39;00m \u001b[38;5;28;01mimport\u001b[39;00m (\n\u001b[0;32m    136\u001b[0m     False_, ScalarType, True_,\n\u001b[0;32m    137\u001b[0m     \u001b[38;5;28mabs\u001b[39m, absolute, acos, acosh, add, \u001b[38;5;28mall\u001b[39m, allclose,\n\u001b[1;32m   (...)\u001b[0m\n\u001b[0;32m    182\u001b[0m     vecmat, void, vstack, where, zeros, zeros_like\n\u001b[0;32m    183\u001b[0m )\n",
      "\u001b[1;31mImportError\u001b[0m: Error importing numpy: you should not try to import numpy from\n        its source directory; please exit the numpy source tree, and relaunch\n        your python interpreter from there."
     ]
    }
   ],
   "source": [
    "from audiocraft.models import MusicGen\n",
    "from audiocraft.models import MultiBandDiffusion\n",
    "\n",
    "USE_DIFFUSION_DECODER = False\n",
    "# Using small model, better results would be obtained with `medium` or `large`.\n",
    "model = MusicGen.get_pretrained('facebook/musicgen-small')\n",
    "if USE_DIFFUSION_DECODER:\n",
    "    mbd = MultiBandDiffusion.get_mbd_musicgen()"
   ]
  },
  {
   "cell_type": "code",
   "execution_count": null,
   "id": "69ff29a2-2db7-4da4-a9e0-59619b20919a",
   "metadata": {},
   "outputs": [],
   "source": []
  },
  {
   "cell_type": "code",
   "execution_count": null,
   "id": "43aa6834-450e-4e72-817c-9a4b124ab14d",
   "metadata": {},
   "outputs": [],
   "source": []
  }
 ],
 "metadata": {
  "kernelspec": {
   "display_name": "Python 3 (ipykernel)",
   "language": "python",
   "name": "python3"
  },
  "language_info": {
   "codemirror_mode": {
    "name": "ipython",
    "version": 3
   },
   "file_extension": ".py",
   "mimetype": "text/x-python",
   "name": "python",
   "nbconvert_exporter": "python",
   "pygments_lexer": "ipython3",
   "version": "3.9.21"
  }
 },
 "nbformat": 4,
 "nbformat_minor": 5
}
